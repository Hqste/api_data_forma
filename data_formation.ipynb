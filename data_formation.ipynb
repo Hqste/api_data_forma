{
 "cells": [
  {
   "cell_type": "code",
   "execution_count": null,
   "metadata": {},
   "outputs": [],
   "source": [
    "import requests\n",
    "import pandas as pd\n",
    "import os\n",
    "import re\n",
    "\n",
    "url = \"https://cfas.apprentissage.beta.gouv.fr/api/v1/organisation/organismes\"\n",
    "\n",
    "#Anonymisation des cookies car données personnelles (besoin d'un compte pour se connecter au site et donc l'API)\n",
    "cookies = {\n",
    "    \"\": \"\"\n",
    "}\n",
    "\n",
    "rep = requests.get(url, cookies=cookies)\n",
    "\n",
    "if rep.status_code != 200:\n",
    "    raise Exception(f\"Erreur lors de la récupération des organismes : {rep.status_code}\")\n",
    "\n",
    "data = pd.DataFrame(rep.json())\n",
    "\n",
    "if \"_id\" not in data.columns or \"raison_sociale\" not in data.columns:\n",
    "    raise ValueError(\"Les colonnes '_id' et 'raison_sociale' sont absentes des données récupérées.\")\n",
    "\n",
    "id_to_name = dict(zip(data[\"_id\"], data[\"raison_sociale\"]))\n",
    "\n",
    "output_dir = \"organismes_csv\"\n",
    "os.makedirs(output_dir, exist_ok=True)\n",
    "\n",
    "for _id, raison_sociale in id_to_name.items():\n",
    "    api_url = f\"https://cfas.apprentissage.beta.gouv.fr/api/v1/organismes/{_id}/indicateurs/effectifs/par-formation?date=2025-03-03T09:38:10.526Z\"\n",
    "    \n",
    "    try:\n",
    "        rep = requests.get(api_url, cookies=cookies)\n",
    "        \n",
    "        if rep.status_code == 200:\n",
    "            data_api = pd.DataFrame(rep.json())\n",
    "\n",
    "            if not data_api.empty:\n",
    "                raison_propre = re.sub(r'[\\\\/*?:\"<>|]', '', raison_sociale)\n",
    "\n",
    "                fichier_path = os.path.join(output_dir, f\"{raison_propre}.csv\")\n",
    "                data_api.to_csv(fichier_path, index=False)\n",
    "                print(f\"Fichier créé : {fichier_path}\")\n",
    "            else:\n",
    "                print(f\"Données vides pour {_id}, fichier non créé.\")\n",
    "\n",
    "        else:\n",
    "            print(f\"Erreur {rep.status_code} pour l'ID {_id}\")\n",
    "\n",
    "    except Exception as e:\n",
    "        print(f\"Erreur lors du traitement de l'ID {_id} : {e}\")\n"
   ]
  },
  {
   "cell_type": "code",
   "execution_count": null,
   "metadata": {},
   "outputs": [
    {
     "name": "stdout",
     "output_type": "stream",
     "text": [
      "Le fichier 'grand_fichier.csv' a été créé.\n"
     ]
    }
   ],
   "source": [
    "dossier = \"organismes_csv\"\n",
    "\n",
    "df_list = []\n",
    "\n",
    "\n",
    "for fichier in os.listdir(dossier):\n",
    "    if fichier.endswith(\".csv\"): \n",
    "        _id = os.path.splitext(fichier)[0] \n",
    "        \n",
    "        df = pd.read_csv(os.path.join(dossier, fichier))\n",
    "        \n",
    "\n",
    "        df[\"_id\"] = _id\n",
    "\n",
    "        df_list.append(df)\n",
    "\n",
    "df_final = pd.concat(df_list, ignore_index=True)\n",
    "\n",
    "df_final.to_csv(\"grand_fichier.csv\", index=False)\n",
    "\n",
    "print(\"Le fichier 'grand_fichier.csv' a été créé.\")\n"
   ]
  },
  {
   "cell_type": "code",
   "execution_count": 33,
   "metadata": {},
   "outputs": [],
   "source": [
    "import pandas as pd\n",
    "\n",
    "grand_fichier = pd.read_csv(\"grand_fichier.csv\")\n",
    "\n",
    "colonnes_a_garder = [\"_id\", \"uai\", \"siret\", \"reseaux\", \"enseigne\", \"adresse\"]\n",
    "data = data[colonnes_a_garder]\n",
    "\n",
    "df_final = grand_fichier.merge(data, on=\"_id\", how=\"left\")\n",
    "\n",
    "autres_colonnes = [col for col in df_final.columns if col not in colonnes_a_garder]\n",
    "colonnes_ordre = colonnes_a_garder + autres_colonnes\n",
    "df_final = df_final[colonnes_ordre]\n",
    "\n",
    "df_final.to_csv(\"grand_fichier_complet.csv\", index=False)\n"
   ]
  },
  {
   "cell_type": "code",
   "execution_count": null,
   "metadata": {},
   "outputs": [],
   "source": [
    "url = \"https://cfas.apprentissage.beta.gouv.fr/api/v1/organisation/organismes\"\n",
    "\n",
    "#Anonymisation des cookies car données personnelles (besoin d'un compte pour se connecter au site et donc l'API)\n",
    "cookies = {\n",
    "    \"\": \"\"\n",
    "}\n",
    "\n",
    "rep = requests.get(url, cookies=cookies)\n",
    "\n",
    "if rep.status_code != 200:\n",
    "    raise Exception(f\"Erreur lors de la récupération des organismes : {rep.status_code}\")\n",
    "\n",
    "data = pd.DataFrame(rep.json())\n",
    "data.to_csv(\"organismes_total.csv\", index=False)"
   ]
  }
 ],
 "metadata": {
  "kernelspec": {
   "display_name": "Python 3",
   "language": "python",
   "name": "python3"
  },
  "language_info": {
   "codemirror_mode": {
    "name": "ipython",
    "version": 3
   },
   "file_extension": ".py",
   "mimetype": "text/x-python",
   "name": "python",
   "nbconvert_exporter": "python",
   "pygments_lexer": "ipython3",
   "version": "3.13.2"
  }
 },
 "nbformat": 4,
 "nbformat_minor": 2
}
